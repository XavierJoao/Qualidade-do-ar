{
 "cells": [
  {
   "cell_type": "code",
   "execution_count": 27,
   "id": "abec6688",
   "metadata": {},
   "outputs": [],
   "source": [
    "import pandas as pd\n",
    "import matplotlib.pyplot as plt\n",
    "from geopy.geocoders import Nominatim\n",
    "import geopandas as gpd\n",
    "from shapely.geometry import Point"
   ]
  },
  {
   "cell_type": "code",
   "execution_count": 8,
   "id": "306ab2f1",
   "metadata": {},
   "outputs": [
    {
     "data": {
      "text/plain": [
       "(40098, 20)"
      ]
     },
     "execution_count": 8,
     "metadata": {},
     "output_type": "execute_result"
    }
   ],
   "source": [
    "df = pd.read_excel('who_ambient_air_quality_database_version_2024_(v6.1).xlsx', sheet_name='Update 2024 (V6.1)')\n",
    "df.shape"
   ]
  },
  {
   "cell_type": "code",
   "execution_count": 5,
   "id": "3424da85",
   "metadata": {},
   "outputs": [
    {
     "data": {
      "text/html": [
       "<div>\n",
       "<style scoped>\n",
       "    .dataframe tbody tr th:only-of-type {\n",
       "        vertical-align: middle;\n",
       "    }\n",
       "\n",
       "    .dataframe tbody tr th {\n",
       "        vertical-align: top;\n",
       "    }\n",
       "\n",
       "    .dataframe thead th {\n",
       "        text-align: right;\n",
       "    }\n",
       "</style>\n",
       "<table border=\"1\" class=\"dataframe\">\n",
       "  <thead>\n",
       "    <tr style=\"text-align: right;\">\n",
       "      <th></th>\n",
       "      <th>who_region</th>\n",
       "      <th>iso3</th>\n",
       "      <th>country_name</th>\n",
       "      <th>city</th>\n",
       "      <th>year</th>\n",
       "      <th>version</th>\n",
       "      <th>pm10_concentration</th>\n",
       "      <th>pm25_concentration</th>\n",
       "      <th>no2_concentration</th>\n",
       "      <th>pm10_tempcov</th>\n",
       "      <th>pm25_tempcov</th>\n",
       "      <th>no2_tempcov</th>\n",
       "      <th>type_of_stations</th>\n",
       "      <th>reference</th>\n",
       "      <th>web_link</th>\n",
       "      <th>population</th>\n",
       "      <th>population_source</th>\n",
       "      <th>latitude</th>\n",
       "      <th>longitude</th>\n",
       "      <th>who_ms</th>\n",
       "    </tr>\n",
       "  </thead>\n",
       "  <tbody>\n",
       "    <tr>\n",
       "      <th>0</th>\n",
       "      <td>4_Eur</td>\n",
       "      <td>ESP</td>\n",
       "      <td>Spain</td>\n",
       "      <td>A Coruna/ESP</td>\n",
       "      <td>2013.0</td>\n",
       "      <td>V4.0 (2018), V4.0 (2018), V4.0 (2018), V4.0 (2...</td>\n",
       "      <td>23.238</td>\n",
       "      <td>11.491</td>\n",
       "      <td>28.841</td>\n",
       "      <td>87.0</td>\n",
       "      <td>46.0</td>\n",
       "      <td>93.0</td>\n",
       "      <td>Urban, Urban, Suburban</td>\n",
       "      <td>NaN</td>\n",
       "      <td>NaN</td>\n",
       "      <td>246146.0</td>\n",
       "      <td>manual, manual, manual, manual</td>\n",
       "      <td>43.367900</td>\n",
       "      <td>-8.418571</td>\n",
       "      <td>1</td>\n",
       "    </tr>\n",
       "    <tr>\n",
       "      <th>1</th>\n",
       "      <td>4_Eur</td>\n",
       "      <td>ESP</td>\n",
       "      <td>Spain</td>\n",
       "      <td>A Coruna/ESP</td>\n",
       "      <td>2014.0</td>\n",
       "      <td>V6.0  (2023), V6.0  (2023), V6.0  (2023)</td>\n",
       "      <td>27.476</td>\n",
       "      <td>15.878</td>\n",
       "      <td>19.575</td>\n",
       "      <td>96.0</td>\n",
       "      <td>88.0</td>\n",
       "      <td>95.0</td>\n",
       "      <td>Urban, Urban, Suburban</td>\n",
       "      <td>NaN</td>\n",
       "      <td>NaN</td>\n",
       "      <td>247604.0</td>\n",
       "      <td>NaN</td>\n",
       "      <td>43.368033</td>\n",
       "      <td>-8.418233</td>\n",
       "      <td>1</td>\n",
       "    </tr>\n",
       "    <tr>\n",
       "      <th>2</th>\n",
       "      <td>4_Eur</td>\n",
       "      <td>ESP</td>\n",
       "      <td>Spain</td>\n",
       "      <td>A Coruna/ESP</td>\n",
       "      <td>2015.0</td>\n",
       "      <td>V6.0  (2023), V6.0  (2023), V6.0  (2023), V6.0...</td>\n",
       "      <td>25.515</td>\n",
       "      <td>14.004</td>\n",
       "      <td>22.731</td>\n",
       "      <td>98.0</td>\n",
       "      <td>71.0</td>\n",
       "      <td>98.0</td>\n",
       "      <td>Urban, Urban, Suburban, Suburban</td>\n",
       "      <td>NaN</td>\n",
       "      <td>NaN</td>\n",
       "      <td>247604.0</td>\n",
       "      <td>NaN</td>\n",
       "      <td>43.370375</td>\n",
       "      <td>-8.422900</td>\n",
       "      <td>1</td>\n",
       "    </tr>\n",
       "    <tr>\n",
       "      <th>3</th>\n",
       "      <td>4_Eur</td>\n",
       "      <td>ESP</td>\n",
       "      <td>Spain</td>\n",
       "      <td>A Coruna/ESP</td>\n",
       "      <td>2016.0</td>\n",
       "      <td>V6.0  (2023), V6.0  (2023), V6.0  (2023), V6.0...</td>\n",
       "      <td>23.057</td>\n",
       "      <td>13.160</td>\n",
       "      <td>20.204</td>\n",
       "      <td>98.0</td>\n",
       "      <td>98.0</td>\n",
       "      <td>98.0</td>\n",
       "      <td>Urban, Urban, Suburban, Suburban</td>\n",
       "      <td>NaN</td>\n",
       "      <td>NaN</td>\n",
       "      <td>247604.0</td>\n",
       "      <td>NaN</td>\n",
       "      <td>43.370375</td>\n",
       "      <td>-8.422900</td>\n",
       "      <td>1</td>\n",
       "    </tr>\n",
       "    <tr>\n",
       "      <th>4</th>\n",
       "      <td>4_Eur</td>\n",
       "      <td>ESP</td>\n",
       "      <td>Spain</td>\n",
       "      <td>A Coruna/ESP</td>\n",
       "      <td>2017.0</td>\n",
       "      <td>V6.0  (2023), V6.0  (2023), V6.0  (2023), V6.0...</td>\n",
       "      <td>26.849</td>\n",
       "      <td>14.114</td>\n",
       "      <td>21.543</td>\n",
       "      <td>97.0</td>\n",
       "      <td>97.0</td>\n",
       "      <td>98.0</td>\n",
       "      <td>Urban, Urban, Suburban, Suburban</td>\n",
       "      <td>NaN</td>\n",
       "      <td>NaN</td>\n",
       "      <td>247604.0</td>\n",
       "      <td>NaN</td>\n",
       "      <td>43.370375</td>\n",
       "      <td>-8.422900</td>\n",
       "      <td>1</td>\n",
       "    </tr>\n",
       "  </tbody>\n",
       "</table>\n",
       "</div>"
      ],
      "text/plain": [
       "  who_region iso3 country_name          city    year  \\\n",
       "0      4_Eur  ESP        Spain  A Coruna/ESP  2013.0   \n",
       "1      4_Eur  ESP        Spain  A Coruna/ESP  2014.0   \n",
       "2      4_Eur  ESP        Spain  A Coruna/ESP  2015.0   \n",
       "3      4_Eur  ESP        Spain  A Coruna/ESP  2016.0   \n",
       "4      4_Eur  ESP        Spain  A Coruna/ESP  2017.0   \n",
       "\n",
       "                                             version  pm10_concentration  \\\n",
       "0  V4.0 (2018), V4.0 (2018), V4.0 (2018), V4.0 (2...              23.238   \n",
       "1           V6.0  (2023), V6.0  (2023), V6.0  (2023)              27.476   \n",
       "2  V6.0  (2023), V6.0  (2023), V6.0  (2023), V6.0...              25.515   \n",
       "3  V6.0  (2023), V6.0  (2023), V6.0  (2023), V6.0...              23.057   \n",
       "4  V6.0  (2023), V6.0  (2023), V6.0  (2023), V6.0...              26.849   \n",
       "\n",
       "   pm25_concentration  no2_concentration  pm10_tempcov  pm25_tempcov  \\\n",
       "0              11.491             28.841          87.0          46.0   \n",
       "1              15.878             19.575          96.0          88.0   \n",
       "2              14.004             22.731          98.0          71.0   \n",
       "3              13.160             20.204          98.0          98.0   \n",
       "4              14.114             21.543          97.0          97.0   \n",
       "\n",
       "   no2_tempcov                  type_of_stations reference web_link  \\\n",
       "0         93.0            Urban, Urban, Suburban       NaN      NaN   \n",
       "1         95.0            Urban, Urban, Suburban       NaN      NaN   \n",
       "2         98.0  Urban, Urban, Suburban, Suburban       NaN      NaN   \n",
       "3         98.0  Urban, Urban, Suburban, Suburban       NaN      NaN   \n",
       "4         98.0  Urban, Urban, Suburban, Suburban       NaN      NaN   \n",
       "\n",
       "   population               population_source   latitude  longitude  who_ms  \n",
       "0    246146.0  manual, manual, manual, manual  43.367900  -8.418571       1  \n",
       "1    247604.0                             NaN  43.368033  -8.418233       1  \n",
       "2    247604.0                             NaN  43.370375  -8.422900       1  \n",
       "3    247604.0                             NaN  43.370375  -8.422900       1  \n",
       "4    247604.0                             NaN  43.370375  -8.422900       1  "
      ]
     },
     "execution_count": 5,
     "metadata": {},
     "output_type": "execute_result"
    }
   ],
   "source": [
    "df.head()"
   ]
  },
  {
   "cell_type": "code",
   "execution_count": 9,
   "id": "e0dac8a9",
   "metadata": {},
   "outputs": [
    {
     "name": "stdout",
     "output_type": "stream",
     "text": [
      "(475, 9)\n",
      "city                   object\n",
      "year                  float64\n",
      "pm10_concentration    float64\n",
      "pm25_concentration    float64\n",
      "no2_concentration     float64\n",
      "type_of_stations       object\n",
      "latitude              float64\n",
      "longitude             float64\n",
      "population            float64\n",
      "dtype: object\n"
     ]
    }
   ],
   "source": [
    "# Filtrando os dados para o Brasil e selecionando colunas relevantes em uma única etapa\n",
    "dados_brasil = df.loc[df['country_name'] == 'Brazil', ['city', 'year', 'pm10_concentration', 'pm25_concentration', 'no2_concentration','type_of_stations', 'latitude', 'longitude', 'population']]\n",
    "\n",
    "# Exibindo o formato e tipos de dados do DataFrame\n",
    "print(dados_brasil.shape)\n",
    "print(dados_brasil.dtypes)\n"
   ]
  },
  {
   "cell_type": "code",
   "execution_count": 10,
   "id": "92dfa109",
   "metadata": {},
   "outputs": [],
   "source": [
    "dados_brasil['year'] = dados_brasil['year'].astype(int)"
   ]
  },
  {
   "cell_type": "code",
   "execution_count": 11,
   "id": "0aef05cb",
   "metadata": {},
   "outputs": [
    {
     "data": {
      "text/html": [
       "<div>\n",
       "<style scoped>\n",
       "    .dataframe tbody tr th:only-of-type {\n",
       "        vertical-align: middle;\n",
       "    }\n",
       "\n",
       "    .dataframe tbody tr th {\n",
       "        vertical-align: top;\n",
       "    }\n",
       "\n",
       "    .dataframe thead th {\n",
       "        text-align: right;\n",
       "    }\n",
       "</style>\n",
       "<table border=\"1\" class=\"dataframe\">\n",
       "  <thead>\n",
       "    <tr style=\"text-align: right;\">\n",
       "      <th></th>\n",
       "      <th>city</th>\n",
       "      <th>year</th>\n",
       "      <th>pm10_concentration</th>\n",
       "      <th>pm25_concentration</th>\n",
       "      <th>no2_concentration</th>\n",
       "      <th>type_of_stations</th>\n",
       "      <th>latitude</th>\n",
       "      <th>longitude</th>\n",
       "      <th>population</th>\n",
       "    </tr>\n",
       "  </thead>\n",
       "  <tbody>\n",
       "    <tr>\n",
       "      <th>1200</th>\n",
       "      <td>Americana/BRA</td>\n",
       "      <td>2011</td>\n",
       "      <td>37.0</td>\n",
       "      <td>NaN</td>\n",
       "      <td>NaN</td>\n",
       "      <td>NaN</td>\n",
       "      <td>-22.724245</td>\n",
       "      <td>-47.339462</td>\n",
       "      <td>228250.0</td>\n",
       "    </tr>\n",
       "    <tr>\n",
       "      <th>1201</th>\n",
       "      <td>Americana/BRA</td>\n",
       "      <td>2012</td>\n",
       "      <td>34.0</td>\n",
       "      <td>NaN</td>\n",
       "      <td>NaN</td>\n",
       "      <td>NaN</td>\n",
       "      <td>-22.724245</td>\n",
       "      <td>-47.339462</td>\n",
       "      <td>228250.0</td>\n",
       "    </tr>\n",
       "    <tr>\n",
       "      <th>1202</th>\n",
       "      <td>Americana/BRA</td>\n",
       "      <td>2013</td>\n",
       "      <td>33.0</td>\n",
       "      <td>NaN</td>\n",
       "      <td>NaN</td>\n",
       "      <td>NaN</td>\n",
       "      <td>-22.724245</td>\n",
       "      <td>-47.339462</td>\n",
       "      <td>228250.0</td>\n",
       "    </tr>\n",
       "    <tr>\n",
       "      <th>1203</th>\n",
       "      <td>Americana/BRA</td>\n",
       "      <td>2014</td>\n",
       "      <td>36.0</td>\n",
       "      <td>NaN</td>\n",
       "      <td>NaN</td>\n",
       "      <td>NaN</td>\n",
       "      <td>-22.724245</td>\n",
       "      <td>-47.339462</td>\n",
       "      <td>228250.0</td>\n",
       "    </tr>\n",
       "    <tr>\n",
       "      <th>1204</th>\n",
       "      <td>Americana/BRA</td>\n",
       "      <td>2016</td>\n",
       "      <td>36.0</td>\n",
       "      <td>NaN</td>\n",
       "      <td>NaN</td>\n",
       "      <td>NaN</td>\n",
       "      <td>-22.724245</td>\n",
       "      <td>-47.339462</td>\n",
       "      <td>228250.0</td>\n",
       "    </tr>\n",
       "  </tbody>\n",
       "</table>\n",
       "</div>"
      ],
      "text/plain": [
       "               city  year  pm10_concentration  pm25_concentration  \\\n",
       "1200  Americana/BRA  2011                37.0                 NaN   \n",
       "1201  Americana/BRA  2012                34.0                 NaN   \n",
       "1202  Americana/BRA  2013                33.0                 NaN   \n",
       "1203  Americana/BRA  2014                36.0                 NaN   \n",
       "1204  Americana/BRA  2016                36.0                 NaN   \n",
       "\n",
       "      no2_concentration type_of_stations   latitude  longitude  population  \n",
       "1200                NaN              NaN -22.724245 -47.339462    228250.0  \n",
       "1201                NaN              NaN -22.724245 -47.339462    228250.0  \n",
       "1202                NaN              NaN -22.724245 -47.339462    228250.0  \n",
       "1203                NaN              NaN -22.724245 -47.339462    228250.0  \n",
       "1204                NaN              NaN -22.724245 -47.339462    228250.0  "
      ]
     },
     "execution_count": 11,
     "metadata": {},
     "output_type": "execute_result"
    }
   ],
   "source": [
    "dados_brasil.head()"
   ]
  },
  {
   "cell_type": "code",
   "execution_count": 12,
   "id": "3adedc65",
   "metadata": {},
   "outputs": [
    {
     "data": {
      "text/plain": [
       "83"
      ]
     },
     "execution_count": 12,
     "metadata": {},
     "output_type": "execute_result"
    }
   ],
   "source": [
    "cidades_brasileiras = dados_brasil['city'].nunique()\n",
    "cidades_brasileiras"
   ]
  },
  {
   "cell_type": "code",
   "execution_count": 13,
   "id": "bbfcaf8e",
   "metadata": {},
   "outputs": [
    {
     "data": {
      "text/plain": [
       "city                    0\n",
       "year                    0\n",
       "pm10_concentration     19\n",
       "pm25_concentration    394\n",
       "no2_concentration     173\n",
       "type_of_stations      475\n",
       "latitude                0\n",
       "longitude               0\n",
       "population              2\n",
       "dtype: int64"
      ]
     },
     "execution_count": 13,
     "metadata": {},
     "output_type": "execute_result"
    }
   ],
   "source": [
    "# Checar dados ausentes\n",
    "missing_data = dados_brasil.isna().sum()\n",
    "missing_data"
   ]
  },
  {
   "cell_type": "code",
   "execution_count": 14,
   "id": "27f570df",
   "metadata": {},
   "outputs": [
    {
     "data": {
      "text/plain": [
       "(475, 7)"
      ]
     },
     "execution_count": 14,
     "metadata": {},
     "output_type": "execute_result"
    }
   ],
   "source": [
    "# Remover colunas 'pm25_concentration' e 'no2_concentration' e fazer uma cópia do DataFrame\n",
    "dados_pm10 = dados_brasil.drop(columns=['pm25_concentration', 'no2_concentration']).copy()\n",
    "\n",
    "# Preencher os valores ausentes de 'pm10_concentration' com a média (sem usar inplace)\n",
    "dados_pm10['pm10_concentration'] = dados_pm10['pm10_concentration'].fillna(dados_pm10['pm10_concentration'].mean())\n",
    "\n",
    "# Ordenar o DataFrame pelo valor de 'pm10_concentration' em ordem decrescente\n",
    "dados_pm10 = dados_pm10.sort_values(by='pm10_concentration', ascending=False)\n",
    "\n",
    "# Exibir as primeiras linhas do DataFrame otimizado\n",
    "dados_pm10.shape\n"
   ]
  },
  {
   "cell_type": "code",
   "execution_count": 15,
   "id": "2888a1fe",
   "metadata": {},
   "outputs": [
    {
     "data": {
      "text/html": [
       "<div>\n",
       "<style scoped>\n",
       "    .dataframe tbody tr th:only-of-type {\n",
       "        vertical-align: middle;\n",
       "    }\n",
       "\n",
       "    .dataframe tbody tr th {\n",
       "        vertical-align: top;\n",
       "    }\n",
       "\n",
       "    .dataframe thead th {\n",
       "        text-align: right;\n",
       "    }\n",
       "</style>\n",
       "<table border=\"1\" class=\"dataframe\">\n",
       "  <thead>\n",
       "    <tr style=\"text-align: right;\">\n",
       "      <th></th>\n",
       "      <th>city</th>\n",
       "      <th>year</th>\n",
       "      <th>pm10_concentration</th>\n",
       "      <th>type_of_stations</th>\n",
       "      <th>latitude</th>\n",
       "      <th>longitude</th>\n",
       "      <th>population</th>\n",
       "    </tr>\n",
       "  </thead>\n",
       "  <tbody>\n",
       "    <tr>\n",
       "      <th>4766</th>\n",
       "      <td>Brasilia/BRA</td>\n",
       "      <td>2013</td>\n",
       "      <td>117.680</td>\n",
       "      <td>NaN</td>\n",
       "      <td>-15.834030</td>\n",
       "      <td>-48.057892</td>\n",
       "      <td>4645843.0</td>\n",
       "    </tr>\n",
       "    <tr>\n",
       "      <th>30950</th>\n",
       "      <td>Santa Gertrudes/BRA</td>\n",
       "      <td>2014</td>\n",
       "      <td>95.000</td>\n",
       "      <td>NaN</td>\n",
       "      <td>-22.459633</td>\n",
       "      <td>-47.533272</td>\n",
       "      <td>21404.0</td>\n",
       "    </tr>\n",
       "    <tr>\n",
       "      <th>30947</th>\n",
       "      <td>Santa Gertrudes/BRA</td>\n",
       "      <td>2011</td>\n",
       "      <td>91.000</td>\n",
       "      <td>NaN</td>\n",
       "      <td>-22.459633</td>\n",
       "      <td>-47.533272</td>\n",
       "      <td>21404.0</td>\n",
       "    </tr>\n",
       "    <tr>\n",
       "      <th>24458</th>\n",
       "      <td>Niteroi/BRA</td>\n",
       "      <td>2011</td>\n",
       "      <td>91.000</td>\n",
       "      <td>NaN</td>\n",
       "      <td>-22.884312</td>\n",
       "      <td>-43.120828</td>\n",
       "      <td>487562.0</td>\n",
       "    </tr>\n",
       "    <tr>\n",
       "      <th>24715</th>\n",
       "      <td>Nova Iguacu/BRA</td>\n",
       "      <td>2012</td>\n",
       "      <td>89.000</td>\n",
       "      <td>NaN</td>\n",
       "      <td>-22.762150</td>\n",
       "      <td>-43.441406</td>\n",
       "      <td>787563.0</td>\n",
       "    </tr>\n",
       "    <tr>\n",
       "      <th>...</th>\n",
       "      <td>...</td>\n",
       "      <td>...</td>\n",
       "      <td>...</td>\n",
       "      <td>...</td>\n",
       "      <td>...</td>\n",
       "      <td>...</td>\n",
       "      <td>...</td>\n",
       "    </tr>\n",
       "    <tr>\n",
       "      <th>20926</th>\n",
       "      <td>Macae/BRA</td>\n",
       "      <td>2013</td>\n",
       "      <td>14.000</td>\n",
       "      <td>NaN</td>\n",
       "      <td>-22.308658</td>\n",
       "      <td>-41.752967</td>\n",
       "      <td>202859.0</td>\n",
       "    </tr>\n",
       "    <tr>\n",
       "      <th>15607</th>\n",
       "      <td>Itaguai/BRA</td>\n",
       "      <td>2019</td>\n",
       "      <td>12.759</td>\n",
       "      <td>NaN</td>\n",
       "      <td>-22.874843</td>\n",
       "      <td>-43.770067</td>\n",
       "      <td>104209.0</td>\n",
       "    </tr>\n",
       "    <tr>\n",
       "      <th>21020</th>\n",
       "      <td>Madre De Deus/BRA</td>\n",
       "      <td>2014</td>\n",
       "      <td>12.000</td>\n",
       "      <td>NaN</td>\n",
       "      <td>-12.739506</td>\n",
       "      <td>-38.614837</td>\n",
       "      <td>19740.0</td>\n",
       "    </tr>\n",
       "    <tr>\n",
       "      <th>27384</th>\n",
       "      <td>Porto Real/BRA</td>\n",
       "      <td>2019</td>\n",
       "      <td>9.680</td>\n",
       "      <td>NaN</td>\n",
       "      <td>-22.421032</td>\n",
       "      <td>-44.288333</td>\n",
       "      <td>18160.0</td>\n",
       "    </tr>\n",
       "    <tr>\n",
       "      <th>9190</th>\n",
       "      <td>Dias D Avila/BRA</td>\n",
       "      <td>2014</td>\n",
       "      <td>6.000</td>\n",
       "      <td>NaN</td>\n",
       "      <td>-12.604052</td>\n",
       "      <td>-38.325605</td>\n",
       "      <td>78710.0</td>\n",
       "    </tr>\n",
       "  </tbody>\n",
       "</table>\n",
       "<p>475 rows × 7 columns</p>\n",
       "</div>"
      ],
      "text/plain": [
       "                      city  year  pm10_concentration type_of_stations  \\\n",
       "4766          Brasilia/BRA  2013             117.680              NaN   \n",
       "30950  Santa Gertrudes/BRA  2014              95.000              NaN   \n",
       "30947  Santa Gertrudes/BRA  2011              91.000              NaN   \n",
       "24458          Niteroi/BRA  2011              91.000              NaN   \n",
       "24715      Nova Iguacu/BRA  2012              89.000              NaN   \n",
       "...                    ...   ...                 ...              ...   \n",
       "20926            Macae/BRA  2013              14.000              NaN   \n",
       "15607          Itaguai/BRA  2019              12.759              NaN   \n",
       "21020    Madre De Deus/BRA  2014              12.000              NaN   \n",
       "27384       Porto Real/BRA  2019               9.680              NaN   \n",
       "9190      Dias D Avila/BRA  2014               6.000              NaN   \n",
       "\n",
       "        latitude  longitude  population  \n",
       "4766  -15.834030 -48.057892   4645843.0  \n",
       "30950 -22.459633 -47.533272     21404.0  \n",
       "30947 -22.459633 -47.533272     21404.0  \n",
       "24458 -22.884312 -43.120828    487562.0  \n",
       "24715 -22.762150 -43.441406    787563.0  \n",
       "...          ...        ...         ...  \n",
       "20926 -22.308658 -41.752967    202859.0  \n",
       "15607 -22.874843 -43.770067    104209.0  \n",
       "21020 -12.739506 -38.614837     19740.0  \n",
       "27384 -22.421032 -44.288333     18160.0  \n",
       "9190  -12.604052 -38.325605     78710.0  \n",
       "\n",
       "[475 rows x 7 columns]"
      ]
     },
     "execution_count": 15,
     "metadata": {},
     "output_type": "execute_result"
    }
   ],
   "source": [
    "dados_pm10"
   ]
  },
  {
   "cell_type": "code",
   "execution_count": 16,
   "id": "4c4b4031",
   "metadata": {},
   "outputs": [
    {
     "name": "stdout",
     "output_type": "stream",
     "text": [
      "Cidades mais poluídas:\n",
      " city\n",
      "Brasilia/BRA                                  117.680000\n",
      "Santa Gertrudes/BRA                            84.857143\n",
      "Sao Joao De Meriti/BRA                         66.843333\n",
      "Sao Goncalo/BRA                                63.958000\n",
      "Cubatao/BRA                                    61.571571\n",
      "Nova Iguacu/BRA                                60.364000\n",
      "Nilopolis/BRA                                  58.000000\n",
      "Niteroi/BRA                                    57.124161\n",
      "Rio Claro/BRA                                  50.600000\n",
      "Regiao Metropolitana Do Rio De Janeiro/BRA     48.769000\n",
      "Name: pm10_concentration, dtype: float64\n",
      "\n",
      "Cidades menos poluídas:\n",
      " city\n",
      "Madre De Deus/BRA              12.000000\n",
      "Gravatai/BRA                   16.150000\n",
      "Camacari/BRA                   17.041667\n",
      "Candeias/BRA                   17.800000\n",
      "Malemba/BRA                    18.000000\n",
      "Macae/BRA                      18.250000\n",
      "Curitiba/BRA                   19.067833\n",
      "Cantagalo Euclidelandia/BRA    20.000000\n",
      "Guapimirim/BRA                 20.333333\n",
      "Dias D Avila/BRA               20.850000\n",
      "Name: pm10_concentration, dtype: float64\n"
     ]
    }
   ],
   "source": [
    "# Calcular a média de concentração de PM10 por cidade\n",
    "media_pm10_por_cidade = dados_pm10.groupby('city')['pm10_concentration'].mean()\n",
    "\n",
    "# Ordenar para obter as cidades mais e menos poluídas\n",
    "cidades_mais_poluídas = media_pm10_por_cidade.sort_values(ascending=False).head(10)\n",
    "cidades_menos_poluídas = media_pm10_por_cidade.sort_values(ascending=True).head(10)\n",
    "\n",
    "# Exibir as 10 cidades mais e menos poluídas\n",
    "print(\"Cidades mais poluídas:\\n\", cidades_mais_poluídas)\n",
    "print(\"\\nCidades menos poluídas:\\n\", cidades_menos_poluídas)"
   ]
  },
  {
   "cell_type": "code",
   "execution_count": 17,
   "id": "a1395941",
   "metadata": {},
   "outputs": [
    {
     "name": "stdout",
     "output_type": "stream",
     "text": [
      "Cidades com apenas um ano de dados:\n",
      " city\n",
      "Belo Horizonte/BRA                            1\n",
      "Brasilia/BRA                                  1\n",
      "Campos/BRA                                    1\n",
      "Cantagalo Euclidelandia/BRA                   1\n",
      "Gravatai/BRA                                  1\n",
      "Jau/BRA                                       1\n",
      "Madre De Deus/BRA                             1\n",
      "Malemba/BRA                                   1\n",
      "Quatis/BRA                                    1\n",
      "Regiao Metropolitana De Sao Paulo/BRA         1\n",
      "Regiao Metropolitana Do Rio De Janeiro/BRA    1\n",
      "Sao Jose Dos Campos/BRA                       1\n",
      "Name: year, dtype: int64\n"
     ]
    }
   ],
   "source": [
    "# Verificar quantos anos de dados cada cidade tem\n",
    "quantidade_de_anos_por_cidade = dados_pm10.groupby('city')['year'].nunique()\n",
    "\n",
    "# Exibir as cidades com apenas um ano de dados\n",
    "cidades_com_um_ano = quantidade_de_anos_por_cidade[quantidade_de_anos_por_cidade == 1]\n",
    "print(\"Cidades com apenas um ano de dados:\\n\", cidades_com_um_ano)"
   ]
  },
  {
   "cell_type": "code",
   "execution_count": 18,
   "id": "0f54d7ed",
   "metadata": {},
   "outputs": [
    {
     "name": "stdout",
     "output_type": "stream",
     "text": [
      "Cidades com maior aumento de PM10:\n",
      " city\n",
      "Macuco/BRA               -2.230\n",
      "Americana/BRA            -4.000\n",
      "Pirassununga/BRA         -4.000\n",
      "Nilopolis/BRA            -4.000\n",
      "Jacarei/BRA              -4.000\n",
      "Sao Joao De Meriti/BRA   -4.530\n",
      "Charqueadas/BRA          -5.000\n",
      "Guarulhos/BRA            -5.000\n",
      "Marilia/BRA              -5.000\n",
      "Ibirite/BRA              -5.138\n",
      "Name: variação_pm10, dtype: float64\n",
      "\n",
      "Cidades com maior redução de PM10:\n",
      " city\n",
      "Niteroi/BRA           -57.693357\n",
      "Nova Iguacu/BRA       -47.000000\n",
      "Sao Goncalo/BRA       -38.000000\n",
      "Salvador/BRA          -28.600000\n",
      "Itaborai/BRA          -27.500000\n",
      "Duque De Caxias/BRA   -23.824000\n",
      "Porto Real/BRA        -23.626643\n",
      "Itaguai/BRA           -22.491000\n",
      "Santos/BRA            -21.753000\n",
      "Cariacica/BRA         -21.095000\n",
      "Name: variação_pm10, dtype: float64\n"
     ]
    }
   ],
   "source": [
    "# Filtrar para cidades com mais de um ano de dados\n",
    "cidades_com_varios_anos = quantidade_de_anos_por_cidade[quantidade_de_anos_por_cidade > 1].index\n",
    "dados_pm10_varios_anos = dados_pm10[dados_pm10['city'].isin(cidades_com_varios_anos)]\n",
    "\n",
    "# Repetir o cálculo de variação de PM10 apenas para essas cidades\n",
    "dados_pm10_agrupados = dados_pm10_varios_anos.groupby('city').agg({'pm10_concentration': ['first', 'last']})\n",
    "dados_pm10_agrupados['variação_pm10'] = dados_pm10_agrupados['pm10_concentration']['last'] - dados_pm10_agrupados['pm10_concentration']['first']\n",
    "\n",
    "# Ordenar para encontrar as maiores variações (positivas e negativas)\n",
    "maiores_variações = dados_pm10_agrupados['variação_pm10'].sort_values(ascending=False).head(10)\n",
    "maiores_reduções = dados_pm10_agrupados['variação_pm10'].sort_values(ascending=True).head(10)\n",
    "\n",
    "print(\"Cidades com maior aumento de PM10:\\n\", maiores_variações)\n",
    "print(\"\\nCidades com maior redução de PM10:\\n\", maiores_reduções)\n"
   ]
  },
  {
   "cell_type": "code",
   "execution_count": 19,
   "id": "294f14d9",
   "metadata": {},
   "outputs": [
    {
     "data": {
      "image/png": "[encoded data removed]",
      "text/plain": [
       "<Figure size 1000x600 with 1 Axes>"
      ]
     },
     "metadata": {},
     "output_type": "display_data"
    }
   ],
   "source": [
    "# Criar um gráfico de barras para as maiores reduções de PM10\n",
    "plt.figure(figsize=(10, 6))\n",
    "\n",
    "# Cidades com maiores reduções\n",
    "maiores_reduções_abs = maiores_reduções.abs()\n",
    "maiores_reduções_abs.plot(kind='bar', color='green', alpha=0.7)\n",
    "plt.title('Cidades com Maior Redução de PM10 no Brasil')\n",
    "plt.ylabel('Redução de PM10')\n",
    "plt.xlabel('Cidades')\n",
    "plt.xticks(rotation=45, ha='right')\n",
    "plt.tight_layout()\n",
    "\n",
    "# Exibir o gráfico\n",
    "plt.show()"
   ]
  },
  {
   "cell_type": "code",
   "execution_count": 20,
   "id": "48f935cc",
   "metadata": {},
   "outputs": [
    {
     "name": "stdout",
     "output_type": "stream",
     "text": [
      "Correlação entre variação de PM10 e população: -0.024731362330224778\n"
     ]
    }
   ],
   "source": [
    "# Calcular correlação entre a variação de PM10 e a população\n",
    "correlacao_populacao = dados_pm10.groupby('city').agg({'population': 'mean'})['population'].corr(dados_pm10_agrupados['variação_pm10'])\n",
    "\n",
    "print(\"Correlação entre variação de PM10 e população:\", correlacao_populacao)\n"
   ]
  },
  {
   "cell_type": "code",
   "execution_count": 21,
   "id": "6d41d9a0",
   "metadata": {},
   "outputs": [
    {
     "data": {
      "image/png": "[encoded data removed]",
      "text/plain": [
       "<Figure size 1000x600 with 1 Axes>"
      ]
     },
     "metadata": {},
     "output_type": "display_data"
    }
   ],
   "source": [
    "# Juntar as maiores variações e reduções usando pd.concat\n",
    "variações_combined = pd.concat([maiores_variações, maiores_reduções])\n",
    "variações_combined_abs = variações_combined.abs()\n",
    "\n",
    "# Gráfico de barras com variações positivas e negativas\n",
    "plt.figure(figsize=(10, 6))\n",
    "variações_combined_abs.plot(kind='bar', color=['red' if x > 0 else 'green' for x in variações_combined], alpha=0.7)\n",
    "plt.title('Variações de PM10 nas Cidades Brasileiras')\n",
    "plt.ylabel('Variação de PM10')\n",
    "plt.xlabel('Cidades')\n",
    "plt.xticks(rotation=45, ha='right')\n",
    "plt.tight_layout()\n",
    "\n",
    "# Exibir o gráfico\n",
    "plt.show()\n"
   ]
  },
  {
   "cell_type": "code",
   "execution_count": 46,
   "id": "5f51e26c",
   "metadata": {},
   "outputs": [
    {
     "data": {
      "text/plain": [
       "'\\ndepois quero ver as dez cidades com maior pm10_concentration e as dez que mais tiveram variação ao longo do tempo\\n\\nquero criar um grafico com mapa através da biblioteca geopandas\\n'"
      ]
     },
     "execution_count": 46,
     "metadata": {},
     "output_type": "execute_result"
    }
   ],
   "source": [
    "'''\n",
    "depois quero ver as dez cidades com maior pm10_concentration e as dez que mais tiveram variação ao longo do tempo\n",
    "\n",
    "quero criar um grafico com mapa através da biblioteca geopandas\n",
    "'''"
   ]
  },
  {
   "cell_type": "code",
   "execution_count": 26,
   "id": "a7649799",
   "metadata": {},
   "outputs": [
    {
     "name": "stdout",
     "output_type": "stream",
     "text": [
      "GEOGCS[\"SIRGAS 2000\",DATUM[\"D_unnamed\",SPHEROID[\"GRS_1980_EPSG_ID_7019\",6378137,298.257222101]],PRIMEM[\"Greenwich\",0],UNIT[\"Degree\",0.0174532925199433],AXIS[\"Longitude\",EAST],AXIS[\"Latitude\",NORTH]]\n"
     ]
    }
   ],
   "source": [
    "# Carregar o shapefile dos estados do Brasil\n",
    "brasil_estados = gpd.read_file('BR_Malha_Preliminar_2022')\n",
    "\n",
    "# Verificar o crs (sistema de coordenadas) e converter se necessário\n",
    "print(brasil_estados.crs)\n",
    "\n",
    "# Se necessário, você pode converter o CRS para WGS84 (usado por lat/lon)\n",
    "# brasil_estados = brasil_estados.to_crs(\"EPSG:4326\")\n"
   ]
  },
  {
   "cell_type": "code",
   "execution_count": 28,
   "id": "d730c13a",
   "metadata": {},
   "outputs": [],
   "source": [
    "# Converter seu DataFrame original para um GeoDataFrame\n",
    "dados_pm10['geometry'] = dados_pm10.apply(lambda row: Point(row['longitude'], row['latitude']), axis=1)\n",
    "dados_geo = gpd.GeoDataFrame(dados_pm10, geometry='geometry')\n",
    "\n",
    "# Certifique-se que ambos os GeoDataFrames estejam no mesmo CRS\n",
    "dados_geo = dados_geo.set_crs(\"EPSG:4326\")"
   ]
  },
  {
   "cell_type": "code",
   "execution_count": 32,
   "id": "4c13a25d",
   "metadata": {},
   "outputs": [
    {
     "name": "stdout",
     "output_type": "stream",
     "text": [
      "GEOGCS[\"SIRGAS 2000\",DATUM[\"D_unnamed\",SPHEROID[\"GRS_1980_EPSG_ID_7019\",6378137,298.257222101]],PRIMEM[\"Greenwich\",0],UNIT[\"Degree\",0.0174532925199433],AXIS[\"Longitude\",EAST],AXIS[\"Latitude\",NORTH]]\n"
     ]
    }
   ],
   "source": [
    "# Verifique o CRS dos dados dos estados\n",
    "print(brasil_estados.crs)\n",
    "\n",
    "# Se o CRS dos estados não for EPSG:4326, você precisará converter\n",
    "brasil_estados = brasil_estados.to_crs(\"EPSG:4326\")"
   ]
  },
  {
   "cell_type": "code",
   "execution_count": 33,
   "id": "8bf6331e",
   "metadata": {},
   "outputs": [
    {
     "name": "stdout",
     "output_type": "stream",
     "text": [
      "Index(['CD_SETOR', 'AREA_KM2', 'CD_REGIAO', 'NM_REGIAO', 'CD_UF', 'NM_UF',\n",
      "       'CD_MUN', 'NM_MUN', 'CD_DIST', 'NM_DIST', 'CD_SUBDIST', 'NM_SUBDIST',\n",
      "       'CD_MICRO', 'NM_MICRO', 'CD_MESO', 'NM_MESO', 'CD_RGI', 'NM_RGI',\n",
      "       'CD_RGINT', 'NM_RGINT', 'CD_CONCURB', 'NM_CONCURB', 'geometry'],\n",
      "      dtype='object')\n"
     ]
    }
   ],
   "source": [
    "print(brasil_estados.columns)"
   ]
  },
  {
   "cell_type": "code",
   "execution_count": null,
   "id": "93647a04",
   "metadata": {},
   "outputs": [],
   "source": []
  }
 ],
 "metadata": {
  "kernelspec": {
   "display_name": "qualidade_ar_ambiente",
   "language": "python",
   "name": "qualidade_ar_ambiente"
  },
  "language_info": {
   "codemirror_mode": {
    "name": "ipython",
    "version": 3
   },
   "file_extension": ".py",
   "mimetype": "text/x-python",
   "name": "python",
   "nbconvert_exporter": "python",
   "pygments_lexer": "ipython3",
   "version": "3.12.4"
  }
 },
 "nbformat": 4,
 "nbformat_minor": 5
}
