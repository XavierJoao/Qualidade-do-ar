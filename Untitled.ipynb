{
 "cells": [
  {
   "cell_type": "code",
   "execution_count": null,
   "id": "3cff337d",
   "metadata": {},
   "outputs": [],
   "source": [
    "'''\n",
    "Anotações importantes para inserir no projeto final:\n",
    "\n",
    "banco de dados de qualidade do ar da OMS :'https://www.who.int/data/gho/data/themes/air-pollution/who-air-quality-database'\n",
    "\n",
    "O que ele pode fazer:\n",
    "\n",
    "✅️ servir como dados de entrada em modelos para estimar a exposição à poluição do ar com dados topográficos,\n",
    "populacionais e de satélite, juntamente com modelos de transporte de produtos químicos, entre outros.\n",
    "\n",
    "✅️ contribuir para defender uma melhor monitorização da qualidade do ar em todo o lado\n",
    "\n",
    "✅️ reconhecer o esforço crescente do número de estações de monitoramento ao redor do mundo\n",
    "\n",
    "✅️ conscientizar sobre a importância de dados disponíveis publicamente e de alta qualidade\n",
    "\n",
    "✅️ serve como base para calcular a mortalidade e a morbidade da poluição do ar - de acordo com\n",
    "as últimas estimativas da Organização Mundial da Saúde, 4,2 milhões morreram em 2019 devido\n",
    "à inalação de ar de má qualidade. 4,2 milhões desenvolveram doenças cardiovasculares,\n",
    "como derrame ou doença cardíaca, câncer de pulmão ou DPOC.\n",
    "\n",
    "import matplotlib.pyplot as plt\n",
    "%matplotlib inline\n",
    "\n",
    "'''"
   ]
  },
  {
   "cell_type": "markdown",
   "id": "08211063",
   "metadata": {},
   "source": [
    "# Projeto Análise de Qualidade do Ar no Brasil\n",
    "\n",
    "## Descrição\n",
    "Este projeto tem como objetivo analisar a qualidade do ar em diferentes regiões do Brasil, especialmente em um cenário de crise devido às queimadas que ocorrem em várias partes do país. O projeto buscará identificar as causas da poluição, comparar substâncias presentes no ar e monitorar a qualidade ao longo do tempo. Com os dados obtidos, será possível gerar previsões e oferecer insights sobre a evolução da qualidade do ar.\n",
    "\n",
    "Além disso, faremos uma comparação com outros países que enfrentam problemas semelhantes, buscando padrões e tendências globais que possam auxiliar no entendimento da situação atual no Brasil.\n",
    "\n",
    "## Metodologia\n",
    "As seguintes ferramentas e técnicas serão utilizadas para a realização deste projeto:\n",
    "\n",
    "- **Python**: devido à sua simplicidade, versatilidade e vasta biblioteca de análise de dados.\n",
    "- **Web Scraping**: para coletar dados de fontes confiáveis e armazená-los de maneira organizada em arquivos CSV.\n",
    "- **Análise de dados**: usando **Pandas** para tratamento e processamento de dados.\n",
    "- **Visualização**: gráficos e visualizações utilizando **Matplotlib** e **Seaborn** para destacar padrões e tendências.\n",
    "- **Modelagem preditiva**: com **Sci-kit Learn**, serão criados modelos preditivos para analisar as variações da qualidade do ar ao longo do tempo.\n",
    "- **Análise de Redes**: com **NetworkX**, serão gerados grafos para representar interações e correlações entre diferentes variáveis ambientais.\n"
   ]
  },
  {
   "cell_type": "markdown",
   "id": "0bcb69ec",
   "metadata": {},
   "source": [
    "## Passo a Passo\n",
    "\n",
    "1. **Coleta de Dados (Web Scraping)**: Realizar o scraping em fontes confiáveis como INPE, IBGE, ou outras agências ambientais.\n",
    "2. **Tratamento e Processamento de Dados (Pandas)**: Limpeza e organização dos dados coletados para facilitar a análise.\n",
    "3. **Visualização de Dados (Matplotlib, Seaborn)**: Criar gráficos de linha, dispersão e calor para identificar padrões de poluição do ar em diferentes regiões.\n",
    "4. **Criação de Modelos Preditivos (Sci-kit Learn)**: Implementar algoritmos de machine learning para prever a qualidade do ar com base nos dados históricos.\n",
    "5. **Análise de Redes (NetworkX)**: Criar grafos para representar a relação entre variáveis, como temperatura, umidade, poluição e localização das queimadas.\n",
    "6. **Comparação Internacional**: Obter e comparar dados de outros países para identificar tendências e soluções adotadas globalmente.\n"
   ]
  },
  {
   "cell_type": "code",
   "execution_count": 14,
   "id": "6ffe8e32",
   "metadata": {},
   "outputs": [],
   "source": [
    "# Importação de bibliotecas utilizadas no projeto\n",
    "import numpy as np\n",
    "import pandas as pd\n"
   ]
  },
  {
   "cell_type": "code",
   "execution_count": 12,
   "id": "cfee077d",
   "metadata": {},
   "outputs": [
    {
     "name": "stdout",
     "output_type": "stream",
     "text": [
      "Found existing installation: openpyxl 3.1.5\n",
      "Uninstalling openpyxl-3.1.5:\n",
      "  Successfully uninstalled openpyxl-3.1.5\n",
      "Collecting openpyxl\n",
      "  Using cached openpyxl-3.1.5-py2.py3-none-any.whl (250 kB)\n",
      "Requirement already satisfied: et-xmlfile in c:\\users\\user\\anaconda3\\lib\\site-packages (from openpyxl) (1.1.0)\n",
      "Installing collected packages: openpyxl\n",
      "Successfully installed openpyxl-3.1.5\n"
     ]
    }
   ],
   "source": [
    "!pip uninstall -y openpyxl\n",
    "!pip install --upgrade openpyxl\n"
   ]
  },
  {
   "cell_type": "markdown",
   "id": "f99631ee",
   "metadata": {},
   "source": [
    "### Passo 1: Coleta de Dados (Web Scraping)"
   ]
  },
  {
   "cell_type": "code",
   "execution_count": null,
   "id": "4757e639",
   "metadata": {},
   "outputs": [],
   "source": [
    "'''def extract_species_data(url):\n",
    "    response = requests.get(url)\n",
    "    soup = BeautifulSoup(response.text, 'html.parser')\n",
    "\n",
    "    species_data = []\n",
    "\n",
    "    current_order = None\n",
    "    current_family = None\n",
    "\n",
    "    for div in soup.find_all('div', class_='post-body entry-content'):\n",
    "        for element in div.children:\n",
    "            if element.name == 'b':\n",
    "                current_order = element.text.strip()\n",
    "            elif element.name == 'u':\n",
    "                current_family = element.text.strip()\n",
    "            elif element.name == 'i':\n",
    "                species_name = element.text.strip()\n",
    "                common_name = element.next_sibling.strip() if element.next_sibling else \"\"\n",
    "                species_data.append([species_name, common_name, current_order, current_family])\n",
    "\n",
    "    return species_data\n",
    "\n",
    "def save_to_csv(data, filename):\n",
    "    with open(filename, mode='w', newline='', encoding='utf-8') as file:\n",
    "        writer = csv.writer(file)\n",
    "        writer.writerow(['Espécie', 'Nome Comum', 'Ordem', 'Família'])\n",
    "        writer.writerows(data)\n",
    "\n",
    "# Caminho no armazenamento temporário do Colab\n",
    "csv_filename = '/content/species_data.csv'\n",
    "\n",
    "url1 = 'https://ipram-es.blogspot.com/2011/10/relacao-da-mamiferos-aquaticos.html'\n",
    "species_data = extract_species_data(url1)\n",
    "save_to_csv(species_data, csv_filename)\n",
    "\n",
    "print(f'Arquivo CSV salvo em: {csv_filename}')\n",
    "'''"
   ]
  },
  {
   "cell_type": "markdown",
   "id": "32235645",
   "metadata": {},
   "source": [
    "### Passo 2: Tratamento e Processamento de Dados (Pandas)"
   ]
  },
  {
   "cell_type": "code",
   "execution_count": 15,
   "id": "9d9b4f8d",
   "metadata": {},
   "outputs": [
    {
     "ename": "ImportError",
     "evalue": "Pandas requires version '3.1.0' or newer of 'openpyxl' (version '3.0.10' currently installed).",
     "output_type": "error",
     "traceback": [
      "\u001b[1;31m---------------------------------------------------------------------------\u001b[0m",
      "\u001b[1;31mImportError\u001b[0m                               Traceback (most recent call last)",
      "\u001b[1;32m~\\AppData\\Local\\Temp\\ipykernel_448\\1460938903.py\u001b[0m in \u001b[0;36m<module>\u001b[1;34m\u001b[0m\n\u001b[1;32m----> 1\u001b[1;33m \u001b[0mdf\u001b[0m \u001b[1;33m=\u001b[0m \u001b[0mpd\u001b[0m\u001b[1;33m.\u001b[0m\u001b[0mread_excel\u001b[0m\u001b[1;33m(\u001b[0m\u001b[1;34m'who_ambient_air_quality_database_version_2024_(v6.1).xlsx'\u001b[0m\u001b[1;33m)\u001b[0m\u001b[1;33m\u001b[0m\u001b[1;33m\u001b[0m\u001b[0m\n\u001b[0m\u001b[0;32m      2\u001b[0m \u001b[0mdf\u001b[0m\u001b[1;33m.\u001b[0m\u001b[0mhead\u001b[0m\u001b[1;33m(\u001b[0m\u001b[1;33m)\u001b[0m\u001b[1;33m\u001b[0m\u001b[1;33m\u001b[0m\u001b[0m\n",
      "\u001b[1;32m~\\anaconda3\\lib\\site-packages\\pandas\\io\\excel\\_base.py\u001b[0m in \u001b[0;36mread_excel\u001b[1;34m(io, sheet_name, header, names, index_col, usecols, dtype, engine, converters, true_values, false_values, skiprows, nrows, na_values, keep_default_na, na_filter, verbose, parse_dates, date_parser, date_format, thousands, decimal, comment, skipfooter, storage_options, dtype_backend, engine_kwargs)\u001b[0m\n\u001b[0;32m    493\u001b[0m     \u001b[1;32mif\u001b[0m \u001b[1;32mnot\u001b[0m \u001b[0misinstance\u001b[0m\u001b[1;33m(\u001b[0m\u001b[0mio\u001b[0m\u001b[1;33m,\u001b[0m \u001b[0mExcelFile\u001b[0m\u001b[1;33m)\u001b[0m\u001b[1;33m:\u001b[0m\u001b[1;33m\u001b[0m\u001b[1;33m\u001b[0m\u001b[0m\n\u001b[0;32m    494\u001b[0m         \u001b[0mshould_close\u001b[0m \u001b[1;33m=\u001b[0m \u001b[1;32mTrue\u001b[0m\u001b[1;33m\u001b[0m\u001b[1;33m\u001b[0m\u001b[0m\n\u001b[1;32m--> 495\u001b[1;33m         io = ExcelFile(\n\u001b[0m\u001b[0;32m    496\u001b[0m             \u001b[0mio\u001b[0m\u001b[1;33m,\u001b[0m\u001b[1;33m\u001b[0m\u001b[1;33m\u001b[0m\u001b[0m\n\u001b[0;32m    497\u001b[0m             \u001b[0mstorage_options\u001b[0m\u001b[1;33m=\u001b[0m\u001b[0mstorage_options\u001b[0m\u001b[1;33m,\u001b[0m\u001b[1;33m\u001b[0m\u001b[1;33m\u001b[0m\u001b[0m\n",
      "\u001b[1;32m~\\anaconda3\\lib\\site-packages\\pandas\\io\\excel\\_base.py\u001b[0m in \u001b[0;36m__init__\u001b[1;34m(self, path_or_buffer, engine, storage_options, engine_kwargs)\u001b[0m\n\u001b[0;32m   1565\u001b[0m         \u001b[0mself\u001b[0m\u001b[1;33m.\u001b[0m\u001b[0mstorage_options\u001b[0m \u001b[1;33m=\u001b[0m \u001b[0mstorage_options\u001b[0m\u001b[1;33m\u001b[0m\u001b[1;33m\u001b[0m\u001b[0m\n\u001b[0;32m   1566\u001b[0m \u001b[1;33m\u001b[0m\u001b[0m\n\u001b[1;32m-> 1567\u001b[1;33m         self._reader = self._engines[engine](\n\u001b[0m\u001b[0;32m   1568\u001b[0m             \u001b[0mself\u001b[0m\u001b[1;33m.\u001b[0m\u001b[0m_io\u001b[0m\u001b[1;33m,\u001b[0m\u001b[1;33m\u001b[0m\u001b[1;33m\u001b[0m\u001b[0m\n\u001b[0;32m   1569\u001b[0m             \u001b[0mstorage_options\u001b[0m\u001b[1;33m=\u001b[0m\u001b[0mstorage_options\u001b[0m\u001b[1;33m,\u001b[0m\u001b[1;33m\u001b[0m\u001b[1;33m\u001b[0m\u001b[0m\n",
      "\u001b[1;32m~\\anaconda3\\lib\\site-packages\\pandas\\io\\excel\\_openpyxl.py\u001b[0m in \u001b[0;36m__init__\u001b[1;34m(self, filepath_or_buffer, storage_options, engine_kwargs)\u001b[0m\n\u001b[0;32m    550\u001b[0m             \u001b[0mArbitrary\u001b[0m \u001b[0mkeyword\u001b[0m \u001b[0marguments\u001b[0m \u001b[0mpassed\u001b[0m \u001b[0mto\u001b[0m \u001b[0mexcel\u001b[0m \u001b[0mengine\u001b[0m\u001b[1;33m.\u001b[0m\u001b[1;33m\u001b[0m\u001b[1;33m\u001b[0m\u001b[0m\n\u001b[0;32m    551\u001b[0m         \"\"\"\n\u001b[1;32m--> 552\u001b[1;33m         \u001b[0mimport_optional_dependency\u001b[0m\u001b[1;33m(\u001b[0m\u001b[1;34m\"openpyxl\"\u001b[0m\u001b[1;33m)\u001b[0m\u001b[1;33m\u001b[0m\u001b[1;33m\u001b[0m\u001b[0m\n\u001b[0m\u001b[0;32m    553\u001b[0m         super().__init__(\n\u001b[0;32m    554\u001b[0m             \u001b[0mfilepath_or_buffer\u001b[0m\u001b[1;33m,\u001b[0m\u001b[1;33m\u001b[0m\u001b[1;33m\u001b[0m\u001b[0m\n",
      "\u001b[1;32m~\\anaconda3\\lib\\site-packages\\pandas\\compat\\_optional.py\u001b[0m in \u001b[0;36mimport_optional_dependency\u001b[1;34m(name, extra, errors, min_version)\u001b[0m\n\u001b[0;32m    162\u001b[0m                 \u001b[1;32mreturn\u001b[0m \u001b[1;32mNone\u001b[0m\u001b[1;33m\u001b[0m\u001b[1;33m\u001b[0m\u001b[0m\n\u001b[0;32m    163\u001b[0m             \u001b[1;32melif\u001b[0m \u001b[0merrors\u001b[0m \u001b[1;33m==\u001b[0m \u001b[1;34m\"raise\"\u001b[0m\u001b[1;33m:\u001b[0m\u001b[1;33m\u001b[0m\u001b[1;33m\u001b[0m\u001b[0m\n\u001b[1;32m--> 164\u001b[1;33m                 \u001b[1;32mraise\u001b[0m \u001b[0mImportError\u001b[0m\u001b[1;33m(\u001b[0m\u001b[0mmsg\u001b[0m\u001b[1;33m)\u001b[0m\u001b[1;33m\u001b[0m\u001b[1;33m\u001b[0m\u001b[0m\n\u001b[0m\u001b[0;32m    165\u001b[0m             \u001b[1;32melse\u001b[0m\u001b[1;33m:\u001b[0m\u001b[1;33m\u001b[0m\u001b[1;33m\u001b[0m\u001b[0m\n\u001b[0;32m    166\u001b[0m                 \u001b[1;32mreturn\u001b[0m \u001b[1;32mNone\u001b[0m\u001b[1;33m\u001b[0m\u001b[1;33m\u001b[0m\u001b[0m\n",
      "\u001b[1;31mImportError\u001b[0m: Pandas requires version '3.1.0' or newer of 'openpyxl' (version '3.0.10' currently installed)."
     ]
    }
   ],
   "source": [
    "df = pd.read_excel('who_ambient_air_quality_database_version_2024_(v6.1).xlsx')\n",
    "df.head()"
   ]
  },
  {
   "cell_type": "markdown",
   "id": "7e21d5b4",
   "metadata": {},
   "source": [
    "### Passo 3: Visualização de Dados (Matplotlib, Seaborn)"
   ]
  },
  {
   "cell_type": "code",
   "execution_count": 16,
   "id": "a8167361",
   "metadata": {},
   "outputs": [
    {
     "name": "stdout",
     "output_type": "stream",
     "text": [
      "3.0.10\n"
     ]
    }
   ],
   "source": [
    "import openpyxl\n",
    "print(openpyxl.__version__)\n"
   ]
  },
  {
   "cell_type": "markdown",
   "id": "227a702a",
   "metadata": {},
   "source": [
    "### Passo 4: Criação de Modelos Preditivos (Sci-kit Learn)"
   ]
  },
  {
   "cell_type": "code",
   "execution_count": 17,
   "id": "4c702390",
   "metadata": {},
   "outputs": [
    {
     "name": "stdout",
     "output_type": "stream",
     "text": [
      "Collecting package metadata (current_repodata.json): ...working... done\n",
      "Solving environment: ...working... failed with initial frozen solve. Retrying with flexible solve.\n",
      "Collecting package metadata (repodata.json): ...working... done\n",
      "Solving environment: ...working... failed with initial frozen solve. Retrying with flexible solve.\n"
     ]
    },
    {
     "name": "stderr",
     "output_type": "stream",
     "text": [
      "\n",
      "PackagesNotFoundError: The following packages are not available from current channels:\n",
      "\n",
      "  - openpyxl=3.1.0\n",
      "\n",
      "Current channels:\n",
      "\n",
      "  - https://conda.anaconda.org/anaconda/win-64\n",
      "  - https://conda.anaconda.org/anaconda/noarch\n",
      "  - https://repo.anaconda.com/pkgs/main/win-64\n",
      "  - https://repo.anaconda.com/pkgs/main/noarch\n",
      "  - https://repo.anaconda.com/pkgs/r/win-64\n",
      "  - https://repo.anaconda.com/pkgs/r/noarch\n",
      "  - https://repo.anaconda.com/pkgs/msys2/win-64\n",
      "  - https://repo.anaconda.com/pkgs/msys2/noarch\n",
      "\n",
      "To search for alternate channels that may provide the conda package you're\n",
      "looking for, navigate to\n",
      "\n",
      "    https://anaconda.org\n",
      "\n",
      "and use the search bar at the top of the page.\n",
      "\n",
      "\n"
     ]
    }
   ],
   "source": [
    "!conda install -c anaconda openpyxl=3.1.0\n"
   ]
  },
  {
   "cell_type": "markdown",
   "id": "057c7a51",
   "metadata": {},
   "source": [
    "### Passo 5: Análise de Redes (NetworkX)"
   ]
  },
  {
   "cell_type": "code",
   "execution_count": null,
   "id": "ce279bab",
   "metadata": {},
   "outputs": [],
   "source": []
  },
  {
   "cell_type": "markdown",
   "id": "d7938e1b",
   "metadata": {},
   "source": [
    "### Passo 6: Comparação Internacional"
   ]
  },
  {
   "cell_type": "code",
   "execution_count": null,
   "id": "0bd78b6e",
   "metadata": {},
   "outputs": [],
   "source": []
  }
 ],
 "metadata": {
  "kernelspec": {
   "display_name": "Python 3 (ipykernel)",
   "language": "python",
   "name": "python3"
  },
  "language_info": {
   "codemirror_mode": {
    "name": "ipython",
    "version": 3
   },
   "file_extension": ".py",
   "mimetype": "text/x-python",
   "name": "python",
   "nbconvert_exporter": "python",
   "pygments_lexer": "ipython3",
   "version": "3.9.13"
  }
 },
 "nbformat": 4,
 "nbformat_minor": 5
}
